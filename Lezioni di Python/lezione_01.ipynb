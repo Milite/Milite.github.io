{
  "cells": [
    {
      "cell_type": "markdown",
      "metadata": {
        "id": "view-in-github",
        "colab_type": "text"
      },
      "source": [
        "<a href=\"https://colab.research.google.com/github/milite/milite.github.io/blob/main/Lezioni%20di%20Python/lezione_01.ipynb\" target=\"_parent\"><img src=\"https://colab.research.google.com/assets/colab-badge.svg\" alt=\"Open In Colab\"/></a>"
      ]
    },
    {
      "cell_type": "markdown",
      "metadata": {
        "id": "GOaH9R-0mxyB"
      },
      "source": [
        "# Prima lezione\n",
        "## Sottotitolo\n",
        "Questa cella è di commento. è una cella markdown che accetta anche linguaggio latex $\\alpha$.\n",
        "Markdown è linguaggio molto semplice da utilizzare. Queste celle si possono muovere molto facilmente utilizzando le frecce che ci sono sopra, ma ordine con cui vengono eseguite è segnato con il numero di fianco a sinistra"
      ]
    },
    {
      "cell_type": "code",
      "execution_count": 1,
      "metadata": {
        "collapsed": true,
        "id": "EniuuJz6mxyP",
        "outputId": "4a182480-7822-4605-b57e-bac22900c42a",
        "colab": {
          "base_uri": "https://localhost:8080/"
        }
      },
      "outputs": [
        {
          "output_type": "stream",
          "name": "stdout",
          "text": [
            "hello\n",
            "prova\n"
          ]
        }
      ],
      "source": [
        "print ('hello')\n",
        "print ('prova')"
      ]
    },
    {
      "cell_type": "code",
      "execution_count": null,
      "metadata": {
        "collapsed": true,
        "id": "QmBAyKT6mxyX",
        "outputId": "3a1903ca-83b3-4ee2-b6b2-66ace63e1017"
      },
      "outputs": [
        {
          "name": "stdout",
          "output_type": "stream",
          "text": [
            "hello\n",
            "ciao\n"
          ]
        }
      ],
      "source": [
        "print ('hello')\n",
        "print ('ciao')"
      ]
    },
    {
      "cell_type": "code",
      "execution_count": null,
      "metadata": {
        "id": "kjXgGuGmmxyZ",
        "outputId": "00aec994-762b-414c-97ad-b84a40147ba2"
      },
      "outputs": [
        {
          "name": "stdout",
          "output_type": "stream",
          "text": [
            "prova\n"
          ]
        }
      ],
      "source": [
        "#questo è un commento ma più comodo utilizzare markdown quando uso notebook\n",
        "print ('prova')"
      ]
    },
    {
      "cell_type": "markdown",
      "metadata": {
        "id": "_31cWa8rmxyc"
      },
      "source": [
        "Python usa indentazione per scrivere gli if, cicli for. Utilizzo \":\" "
      ]
    },
    {
      "cell_type": "code",
      "execution_count": null,
      "metadata": {
        "collapsed": true,
        "id": "C389aCgdmxyd",
        "outputId": "72073b34-686f-4379-d6e9-e81f6588949b"
      },
      "outputs": [
        {
          "name": "stdout",
          "output_type": "stream",
          "text": [
            "3 è maggiore di 2\n",
            "sono ancora nella if condition\n",
            "sono fuori dalla if condition\n"
          ]
        }
      ],
      "source": [
        "if 3>2:\n",
        "    print ('3 è maggiore di 2')\n",
        "    print('sono ancora nella if condition')\n",
        "print('sono fuori dalla if condition')"
      ]
    },
    {
      "cell_type": "code",
      "execution_count": null,
      "metadata": {
        "id": "A6DPaT76mxyg",
        "outputId": "dac6eef8-21bf-4dec-aa36-42e977c16c67"
      },
      "outputs": [
        {
          "name": "stdout",
          "output_type": "stream",
          "text": [
            "sono fuori dalla if condition\n"
          ]
        }
      ],
      "source": [
        "if 3<2:\n",
        "    print ('3 è maggiore di 2')\n",
        "    print('sono ancora nella if condition')\n",
        "print('sono fuori dalla if condition')"
      ]
    },
    {
      "cell_type": "code",
      "execution_count": null,
      "metadata": {
        "collapsed": true,
        "id": "Nsf-YRGkmxyi",
        "outputId": "fbe6b523-acba-4e94-d631-d01fd18e12db"
      },
      "outputs": [
        {
          "name": "stdout",
          "output_type": "stream",
          "text": [
            "3 è maggiore di 2\n",
            "sono ancora nella if condition\n",
            "questa è un altra if condition\n",
            "sono fuori dalla seconda if condition, ma dentro la prima\n",
            "sono fuori dalla if condition\n"
          ]
        }
      ],
      "source": [
        "if 3>2:\n",
        "    print ('3 è maggiore di 2')\n",
        "    print('sono ancora nella if condition')\n",
        "    if 2>1:\n",
        "        print('questa è un altra if condition')\n",
        "    print('sono fuori dalla seconda if condition, ma dentro la prima')\n",
        "print('sono fuori dalla if condition')"
      ]
    },
    {
      "cell_type": "markdown",
      "metadata": {
        "id": "gdSaK8Wimxyk"
      },
      "source": [
        "in python non bisogna prima dichiarare il tipo della variabile"
      ]
    },
    {
      "cell_type": "code",
      "execution_count": null,
      "metadata": {
        "id": "GSn8vEaMmxym"
      },
      "outputs": [],
      "source": [
        "x = 3\n",
        "y = 5.0"
      ]
    },
    {
      "cell_type": "code",
      "execution_count": null,
      "metadata": {
        "id": "4mxSc5bsmxyo",
        "outputId": "f3c2e119-6371-45f0-8712-912c48baa30d"
      },
      "outputs": [
        {
          "name": "stdout",
          "output_type": "stream",
          "text": [
            "3\n",
            "5.0\n"
          ]
        }
      ],
      "source": [
        "print(x)\n",
        "print(y)"
      ]
    },
    {
      "cell_type": "code",
      "execution_count": null,
      "metadata": {
        "id": "KiDEmFr2mxyp",
        "outputId": "f49e4935-460b-41e3-f3be-e7f2c9d631cb"
      },
      "outputs": [
        {
          "name": "stdout",
          "output_type": "stream",
          "text": [
            "<class 'int'>\n",
            "<class 'float'>\n"
          ]
        }
      ],
      "source": [
        "# per sapere tipo della variabile\n",
        "print (type(x))\n",
        "print (type(y))"
      ]
    },
    {
      "cell_type": "code",
      "execution_count": null,
      "metadata": {
        "id": "5gDeGOFdmxyr"
      },
      "outputs": [],
      "source": [
        " # posso far cambiare tipo della variabile già creata\n",
        "x = 'Hello'"
      ]
    },
    {
      "cell_type": "code",
      "execution_count": null,
      "metadata": {
        "id": "0dgbErR6mxys",
        "outputId": "a6e3cfc9-3919-436a-9474-ca2aa59efd85"
      },
      "outputs": [
        {
          "name": "stdout",
          "output_type": "stream",
          "text": [
            "<class 'str'>\n"
          ]
        }
      ],
      "source": [
        "print (type(x))"
      ]
    },
    {
      "cell_type": "code",
      "execution_count": null,
      "metadata": {
        "id": "bXC9lSyXmxyu",
        "outputId": "54149fc8-211f-4c01-dd80-2fb20de80744"
      },
      "outputs": [
        {
          "name": "stdout",
          "output_type": "stream",
          "text": [
            "5.0\n",
            "5.2\n",
            "<class 'float'>\n",
            "<class 'str'>\n"
          ]
        }
      ],
      "source": [
        "# forzare tipo della variabile che voglio creare\n",
        "x = float (5)\n",
        "y = str (5.2)\n",
        "print (x)\n",
        "print (y)\n",
        "print (type(x))\n",
        "print (type(y))"
      ]
    },
    {
      "cell_type": "code",
      "execution_count": null,
      "metadata": {
        "id": "SuOuVoevmxyv",
        "outputId": "bf4e570f-4543-489d-9cde-777ac56db6d2"
      },
      "outputs": [
        {
          "name": "stdout",
          "output_type": "stream",
          "text": [
            "5\n",
            "1.5\n"
          ]
        }
      ],
      "source": [
        "# python presta attenzione alle maiuscole e minuscole\n",
        "x = 5\n",
        "X = 1.5\n",
        "print(x)\n",
        "print(X)"
      ]
    },
    {
      "cell_type": "code",
      "execution_count": null,
      "metadata": {
        "id": "EZ8oRtv7mxyx",
        "outputId": "a270cc94-2f6b-4821-a562-909dc0b7b169"
      },
      "outputs": [
        {
          "name": "stdout",
          "output_type": "stream",
          "text": [
            "<class 'float'>\n",
            "<class 'int'>\n"
          ]
        }
      ],
      "source": [
        "x = 5.2\n",
        "y = 4\n",
        "print (type(x))\n",
        "print (type(y))"
      ]
    },
    {
      "cell_type": "code",
      "execution_count": null,
      "metadata": {
        "id": "bFm97UEcmxyy",
        "outputId": "2e1baab3-9f20-45d8-f8b3-eb39fb478684"
      },
      "outputs": [
        {
          "name": "stdout",
          "output_type": "stream",
          "text": [
            "1.3\n",
            "<class 'float'>\n"
          ]
        }
      ],
      "source": [
        "z = x/y\n",
        "print(z)\n",
        "print(type(z))"
      ]
    },
    {
      "cell_type": "code",
      "execution_count": null,
      "metadata": {
        "id": "H9B4S9vimxyz",
        "outputId": "08c1ae48-3338-410d-8d6d-2510c949ffd1"
      },
      "outputs": [
        {
          "name": "stdout",
          "output_type": "stream",
          "text": [
            "1.0\n",
            "<class 'float'>\n",
            "1\n",
            "<class 'int'>\n"
          ]
        }
      ],
      "source": [
        "#  se voglio forzare ad ottenere intero da dizione float/intero ho due modi\n",
        "z = x//y\n",
        "print (z)\n",
        "print(type(z))\n",
        "h = int(x/y)\n",
        "print(h)\n",
        "print(type(h))"
      ]
    },
    {
      "cell_type": "code",
      "execution_count": null,
      "metadata": {
        "id": "KGXAb91Tmxy1",
        "outputId": "bae75d65-f476-48db-c892-afbc91bed62f"
      },
      "outputs": [
        {
          "name": "stdout",
          "output_type": "stream",
          "text": [
            "9.2\n",
            "1.2000000000000002\n",
            "20.8\n"
          ]
        }
      ],
      "source": [
        "z = x+y\n",
        "print(z)\n",
        "z = x-y\n",
        "print(z)\n",
        "z = x*y\n",
        "print(z)"
      ]
    },
    {
      "cell_type": "code",
      "execution_count": null,
      "metadata": {
        "id": "KeVxX5YSmxy2",
        "outputId": "a0fe71be-7036-41b4-f123-af2212f5b5bd"
      },
      "outputs": [
        {
          "name": "stdout",
          "output_type": "stream",
          "text": [
            "731.1616000000001\n"
          ]
        }
      ],
      "source": [
        "#elevamento a potenza\n",
        "z = x**y\n",
        "print(z)"
      ]
    },
    {
      "cell_type": "code",
      "execution_count": null,
      "metadata": {
        "id": "TFIHI1KXmxy3",
        "outputId": "acda0980-994c-43be-f1be-98df8457b2d3"
      },
      "outputs": [
        {
          "name": "stdout",
          "output_type": "stream",
          "text": [
            "salve Mi Chiamo\n"
          ]
        }
      ],
      "source": [
        "# si possono fare anche operazioni sulle stringhe\n",
        "Z = 'salve Mi Chiamo'\n",
        "print(Z)"
      ]
    },
    {
      "cell_type": "code",
      "execution_count": null,
      "metadata": {
        "id": "OqIr3nOAmxy4",
        "outputId": "e4aa7e6d-2950-4486-e3ba-861e56713412"
      },
      "outputs": [
        {
          "name": "stdout",
          "output_type": "stream",
          "text": [
            "Salve mi chiamo\n",
            "salve Mi Chiamo\n"
          ]
        }
      ],
      "source": [
        "# se scrivo mio oggetto, ci metto punto e poi faccio tab mi mette le possibili funzioni che posso utilizzare \n",
        "# utile per non ricordare funzioni a memoria\n",
        "# anche se faccio operazioni non vado a cambiare a cambiare la mia variabile\n",
        "print(Z.capitalize())\n",
        "print(Z)"
      ]
    },
    {
      "cell_type": "code",
      "execution_count": null,
      "metadata": {
        "id": "NrCfJ7tfmxy6",
        "outputId": "30dcd958-b80f-4059-da06-b1218e75f489"
      },
      "outputs": [
        {
          "name": "stdout",
          "output_type": "stream",
          "text": [
            "Salve mi chiamo\n"
          ]
        }
      ],
      "source": [
        "# Se voglio cambiare il valore della mia variabile\n",
        "Z = Z.capitalize()\n",
        "print(Z)"
      ]
    },
    {
      "cell_type": "code",
      "execution_count": null,
      "metadata": {
        "id": "ybQRHt17mxy7"
      },
      "outputs": [],
      "source": [
        "# per avere informazioni su qualsiasi funzione di python che voglio utilizzare\n",
        "?Z.capitalize"
      ]
    },
    {
      "cell_type": "code",
      "execution_count": null,
      "metadata": {
        "id": "WSMz9cM5mxy8"
      },
      "outputs": [],
      "source": [
        "?Z.replace"
      ]
    },
    {
      "cell_type": "code",
      "execution_count": null,
      "metadata": {
        "id": "wvWOhAXcmxy9",
        "outputId": "3c40e195-19fa-4bf1-808f-976df7e31373"
      },
      "outputs": [
        {
          "name": "stdout",
          "output_type": "stream",
          "text": [
            "Salve yi chiayo\n",
            "Ciao mi chiamo\n"
          ]
        }
      ],
      "source": [
        "Y = Z.replace('m','y')\n",
        "print(Y)\n",
        "Y = Z.replace('Salve', 'Ciao')\n",
        "print (Y)\n"
      ]
    },
    {
      "cell_type": "code",
      "execution_count": null,
      "metadata": {
        "id": "N1h4c-6Zmxy-",
        "outputId": "d33749a9-2f51-4e00-fba4-c517d14f3e94"
      },
      "outputs": [
        {
          "name": "stdout",
          "output_type": "stream",
          "text": [
            "Ciao mi chiamo\n",
            "C\n",
            "i\n",
            "o\n",
            "m\n"
          ]
        }
      ],
      "source": [
        "# posso anche accedere ad un particolare carattere della stringa nella posizione specifica\n",
        "print(Y)\n",
        "print(Y[0])\n",
        "print(Y[1])\n",
        "# python accetta anche i valori negativi: -1 corrisponde all'ultimo valore\n",
        "print(Y[-1])\n",
        "print(Y[-2])"
      ]
    },
    {
      "cell_type": "code",
      "execution_count": null,
      "metadata": {
        "id": "CljJ9AM3mxy_",
        "outputId": "42d9f563-ecff-4cb3-c493-2ae65c25f882"
      },
      "outputs": [
        {
          "name": "stdout",
          "output_type": "stream",
          "text": [
            "[0, 2, 5, 6]\n",
            "<class 'list'>\n"
          ]
        }
      ],
      "source": [
        "# definire lista di numeri. I valori all'interno possono essere anche di verso tipo tra di loro\n",
        "a = [0,2,5,6]\n",
        "print(a)\n",
        "print(type(a))"
      ]
    },
    {
      "cell_type": "code",
      "execution_count": null,
      "metadata": {
        "id": "UxOQ-2-ymxzA"
      },
      "outputs": [],
      "source": []
    }
  ],
  "metadata": {
    "kernelspec": {
      "display_name": "Python 3.10.4 64-bit",
      "language": "python",
      "name": "python3"
    },
    "language_info": {
      "codemirror_mode": {
        "name": "ipython",
        "version": 3
      },
      "file_extension": ".py",
      "mimetype": "text/x-python",
      "name": "python",
      "nbconvert_exporter": "python",
      "pygments_lexer": "ipython3",
      "version": "3.10.4"
    },
    "vscode": {
      "interpreter": {
        "hash": "b0a746b5440915f34a8d5e801ba3ca3cc79820c6f1570a265f554ef764aec4b1"
      }
    },
    "colab": {
      "provenance": [],
      "include_colab_link": true
    }
  },
  "nbformat": 4,
  "nbformat_minor": 0
}
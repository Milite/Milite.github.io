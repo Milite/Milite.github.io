{
 "cells": [
  {
   "attachments": {},
   "cell_type": "markdown",
   "metadata": {},
   "source": [
    "# Esercizio 1.0"
   ]
  },
  {
   "cell_type": "code",
   "execution_count": 4,
   "metadata": {},
   "outputs": [],
   "source": [
    "import numpy as np\n",
    "from sympy import Symbol"
   ]
  },
  {
   "cell_type": "code",
   "execution_count": 44,
   "metadata": {},
   "outputs": [],
   "source": [
    "a = Symbol('a')"
   ]
  },
  {
   "cell_type": "code",
   "execution_count": 61,
   "metadata": {},
   "outputs": [],
   "source": [
    "R_x = np.array([[1, 0,0],\n",
    "        [0, 1 - (a**2)/2, -a],\n",
    "        [0, a, 1 - (a**2)/2]])\n",
    "\n",
    "R_y = np.array([[1 - (a**2)/2, 0, a], \n",
    "        [0,1,0], \n",
    "        [-a, 0, 1 - (a**2)/2]])\n",
    "\n",
    "R_z = np.array([[1 - (a**2)/2, -a, 0],\n",
    "        [a, 1 - (a**2)/2, 0],\n",
    "        [0,0,1]])\n",
    "\n",
    "I = np.array([[1,0,0],\n",
    "        [0,1,0],\n",
    "        [0,0,1]])"
   ]
  },
  {
   "cell_type": "code",
   "execution_count": 62,
   "metadata": {},
   "outputs": [
    {
     "data": {
      "text/plain": [
       "array([[1 - a**2/2, 0, a],\n",
       "       [a**2, 1 - a**2/2, -a*(1 - a**2/2)],\n",
       "       [-a*(1 - a**2/2), a, (1 - a**2/2)**2]], dtype=object)"
      ]
     },
     "execution_count": 62,
     "metadata": {},
     "output_type": "execute_result"
    }
   ],
   "source": [
    "np.dot(R_x,R_y)  "
   ]
  },
  {
   "cell_type": "code",
   "execution_count": 63,
   "metadata": {},
   "outputs": [
    {
     "data": {
      "text/plain": [
       "array([[1 - a**2/2, a**2, a*(1 - a**2/2)],\n",
       "       [0, 1 - a**2/2, -a],\n",
       "       [-a, a*(1 - a**2/2), (1 - a**2/2)**2]], dtype=object)"
      ]
     },
     "execution_count": 63,
     "metadata": {},
     "output_type": "execute_result"
    }
   ],
   "source": [
    "np.dot(R_y,R_x)"
   ]
  },
  {
   "cell_type": "code",
   "execution_count": 38,
   "metadata": {},
   "outputs": [
    {
     "data": {
      "text/plain": [
       "array([[-a**2/2, -a, 0],\n",
       "       [a, -a**2/2, 0],\n",
       "       [0, 0, 0]], dtype=object)"
      ]
     },
     "execution_count": 38,
     "metadata": {},
     "output_type": "execute_result"
    }
   ],
   "source": [
    "R_z - I"
   ]
  }
 ],
 "metadata": {
  "kernelspec": {
   "display_name": "Python 3",
   "language": "python",
   "name": "python3"
  },
  "language_info": {
   "codemirror_mode": {
    "name": "ipython",
    "version": 3
   },
   "file_extension": ".py",
   "mimetype": "text/x-python",
   "name": "python",
   "nbconvert_exporter": "python",
   "pygments_lexer": "ipython3",
   "version": "3.11.1"
  },
  "orig_nbformat": 4
 },
 "nbformat": 4,
 "nbformat_minor": 2
}
